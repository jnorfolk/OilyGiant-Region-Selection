{
 "cells": [
  {
   "cell_type": "markdown",
   "id": "6495de30-a7a9-46f8-983e-5760ae6dcb68",
   "metadata": {},
   "source": [
    "# OilyGiant Oil Well Region Selection"
   ]
  },
  {
   "cell_type": "markdown",
   "id": "839e471c-8285-4df1-a29f-1e7ae9ad6d82",
   "metadata": {},
   "source": [
    "# Introduction"
   ]
  },
  {
   "cell_type": "markdown",
   "id": "eb426408-f4db-44a9-b9ac-b1575ef9cd53",
   "metadata": {},
   "source": [
    "My task is to choose the best region for 200 new oil wells, from a set of three regions, each of which has a large number of observations regarding oil quality and volume. The best region is defined as the region with the highest profit margin; revenue will be calculated using data from the 200 best-performing observations, with measured risk calculated as a loss and development costs being a constant.\n",
    "\n",
    "First I will preprocess the data, verifying its suitability for training. For each region I will train and validate a linear regression model, save the predictions and correct values, and evaluate the models using root mean squared error and r^2 score.\n",
    "\n",
    "Then I will calculate how much oil is necessary to make a profit, and estimate the amount of oil in 200 wells using the average oil well size.\n",
    "\n",
    "After that I will select only the largest 200 oil wells and calculate the actual profits from these. Then I will take risk into account, using bootstrapping to find the confidence interval and evaluating the risks of losses. The final region must have a risk of loss no greater than 2.5%."
   ]
  },
  {
   "cell_type": "code",
   "execution_count": 1,
   "id": "8d2cdc1f-8e15-4e43-8921-cd3f80c24974",
   "metadata": {},
   "outputs": [],
   "source": [
    "import pandas as pd\n",
    "from numpy.random import RandomState\n",
    "from numpy import format_float_scientific as sc\n",
    "import matplotlib.pyplot as plt\n",
    "\n",
    "from sklearn.linear_model import LinearRegression\n",
    "from sklearn.model_selection import train_test_split\n",
    "from sklearn.metrics import mean_squared_error, r2_score"
   ]
  },
  {
   "cell_type": "markdown",
   "id": "2e3ffc37-0bb0-45e7-9774-8349557d4513",
   "metadata": {},
   "source": [
    "# Preprocessing"
   ]
  },
  {
   "cell_type": "markdown",
   "id": "f2161543-6974-4627-8983-16c566b1494c",
   "metadata": {},
   "source": [
    "I need to import the datasets and examine them for duplicate observations and missing values. I will one-hot encode any categorical features and standardize numeric features. I will split the datasets into features and target. I will also create some lists of the three datasets, so that when I write functions later, I can use these lists as input. "
   ]
  },
  {
   "cell_type": "code",
   "execution_count": 2,
   "id": "a78ca8ab-93ef-4919-b534-16648b32449b",
   "metadata": {},
   "outputs": [],
   "source": [
    "try:\n",
    "    df_0 = pd.read_csv('geo_data_0.csv')\n",
    "except:\n",
    "    df_0 = pd.read_csv('/datasets/geo_data_0.csv')\n",
    "    \n",
    "try:    \n",
    "    df_1 = pd.read_csv('geo_data_1.csv')\n",
    "except:\n",
    "    df_1 = pd.read_csv('/datasets/geo_data_1.csv')\n",
    "\n",
    "try:    \n",
    "    df_2 = pd.read_csv('geo_data_2.csv')\n",
    "except:\n",
    "    df_2 = pd.read_csv('/datasets/geo_data_2.csv')\n",
    "\n",
    "df_list = [df_0, df_1, df_2]"
   ]
  },
  {
   "cell_type": "markdown",
   "id": "9479573c-417f-4d16-89db-589ca4f8e409",
   "metadata": {},
   "source": [
    "Check out preview of the datasets."
   ]
  },
  {
   "cell_type": "code",
   "execution_count": 3,
   "id": "ef52a6aa-2532-4ab5-a30f-15181844d8fe",
   "metadata": {},
   "outputs": [
    {
     "name": "stdout",
     "output_type": "stream",
     "text": [
      "For region 0:\n",
      "      id        f0        f1        f2     product\n",
      "0  txEyH  0.705745 -0.497823  1.221170  105.280062\n",
      "1  2acmU  1.334711 -0.340164  4.365080   73.037750\n",
      "2  409Wp  1.022732  0.151990  1.419926   85.265647\n",
      "3  iJLyR -0.032172  0.139033  2.978566  168.620776\n",
      "4  Xdl7t  1.988431  0.155413  4.751769  154.036647\n",
      "\n",
      "For region 1:\n",
      "      id         f0         f1        f2     product\n",
      "0  kBEdx -15.001348  -8.276000 -0.005876    3.179103\n",
      "1  62mP7  14.272088  -3.475083  0.999183   26.953261\n",
      "2  vyE1P   6.263187  -5.948386  5.001160  134.766305\n",
      "3  KcrkZ -13.081196 -11.506057  4.999415  137.945408\n",
      "4  AHL4O  12.702195  -8.147433  5.004363  134.766305\n",
      "\n",
      "For region 2:\n",
      "      id        f0        f1        f2     product\n",
      "0  fwXo0 -1.146987  0.963328 -0.828965   27.758673\n",
      "1  WJtFt  0.262778  0.269839 -2.530187   56.069697\n",
      "2  ovLUW  0.194587  0.289035 -5.586433   62.871910\n",
      "3  q6cA6  2.236060 -0.553760  0.930038  114.572842\n",
      "4  WPMUX -0.515993  1.716266  5.899011  149.600746\n",
      "\n"
     ]
    }
   ],
   "source": [
    "i = 0\n",
    "for df in df_list:\n",
    "    print(f\"For region {i}:\")\n",
    "    print(df.head())\n",
    "    print()\n",
    "    i += 1"
   ]
  },
  {
   "cell_type": "markdown",
   "id": "d22262f9-b3d3-4bae-8fcf-2583510d17d2",
   "metadata": {},
   "source": [
    "From the first few rows, it seems to me that the numeric features are already somewhat standardized, and there are no categorical features. The id can be dropped; f0, f1, and f2 are the features; and, product (thousand barrels of oil) is the target."
   ]
  },
  {
   "cell_type": "markdown",
   "id": "b5b86861-b95c-4b75-b690-0ddc3bcf704f",
   "metadata": {},
   "source": [
    "Check for duplicates using a loop. Print out the number of duplicate rows and duplicate id's."
   ]
  },
  {
   "cell_type": "code",
   "execution_count": 4,
   "id": "a8f1498d-96ab-415c-926d-b0f2fcbac661",
   "metadata": {},
   "outputs": [
    {
     "name": "stdout",
     "output_type": "stream",
     "text": [
      "For region 0:\n",
      "Duplicate observations: 0\n",
      "Duplicate id's: 10\n",
      "\n",
      "For region 1:\n",
      "Duplicate observations: 0\n",
      "Duplicate id's: 4\n",
      "\n",
      "For region 2:\n",
      "Duplicate observations: 0\n",
      "Duplicate id's: 4\n",
      "\n"
     ]
    }
   ],
   "source": [
    "i = 0\n",
    "for df in df_list:\n",
    "    print(f\"For region {i}:\")\n",
    "    \n",
    "    print(\"Duplicate observations:\", df.duplicated().sum())\n",
    "    print(\"Duplicate id's:\", df.id.duplicated().sum())\n",
    "    print()\n",
    "    \n",
    "    # print(df[df.id.duplicated()])\n",
    "    # print()\n",
    "    \n",
    "    i += 1"
   ]
  },
  {
   "cell_type": "markdown",
   "id": "ab42ce54-2651-4761-8306-924e0907d1df",
   "metadata": {},
   "source": [
    "It is possible that some of the potential oil well sites had multiple samples taken. But I don't want duplicate sites to appear later in the study, so I will drop them."
   ]
  },
  {
   "cell_type": "code",
   "execution_count": 5,
   "id": "5b4febdb-437a-4a5c-a2a2-857350106578",
   "metadata": {},
   "outputs": [],
   "source": [
    "df_0 = df_0.drop_duplicates(subset='id')\n",
    "df_1 = df_1.drop_duplicates(subset='id')\n",
    "df_2 = df_2.drop_duplicates(subset='id')"
   ]
  },
  {
   "cell_type": "markdown",
   "id": "5483de0c-46f2-4ac7-81b8-9a3839badfbc",
   "metadata": {},
   "source": [
    "Let's check for missing values and datatypes now."
   ]
  },
  {
   "cell_type": "code",
   "execution_count": 6,
   "id": "1b2d2744-515e-446c-aa38-1abee3a9ad57",
   "metadata": {},
   "outputs": [
    {
     "name": "stdout",
     "output_type": "stream",
     "text": [
      "For region 0:\n",
      "<class 'pandas.core.frame.DataFrame'>\n",
      "RangeIndex: 100000 entries, 0 to 99999\n",
      "Data columns (total 5 columns):\n",
      " #   Column   Non-Null Count   Dtype  \n",
      "---  ------   --------------   -----  \n",
      " 0   id       100000 non-null  object \n",
      " 1   f0       100000 non-null  float64\n",
      " 2   f1       100000 non-null  float64\n",
      " 3   f2       100000 non-null  float64\n",
      " 4   product  100000 non-null  float64\n",
      "dtypes: float64(4), object(1)\n",
      "memory usage: 3.8+ MB\n",
      "\n",
      "For region 1:\n",
      "<class 'pandas.core.frame.DataFrame'>\n",
      "RangeIndex: 100000 entries, 0 to 99999\n",
      "Data columns (total 5 columns):\n",
      " #   Column   Non-Null Count   Dtype  \n",
      "---  ------   --------------   -----  \n",
      " 0   id       100000 non-null  object \n",
      " 1   f0       100000 non-null  float64\n",
      " 2   f1       100000 non-null  float64\n",
      " 3   f2       100000 non-null  float64\n",
      " 4   product  100000 non-null  float64\n",
      "dtypes: float64(4), object(1)\n",
      "memory usage: 3.8+ MB\n",
      "\n",
      "For region 2:\n",
      "<class 'pandas.core.frame.DataFrame'>\n",
      "RangeIndex: 100000 entries, 0 to 99999\n",
      "Data columns (total 5 columns):\n",
      " #   Column   Non-Null Count   Dtype  \n",
      "---  ------   --------------   -----  \n",
      " 0   id       100000 non-null  object \n",
      " 1   f0       100000 non-null  float64\n",
      " 2   f1       100000 non-null  float64\n",
      " 3   f2       100000 non-null  float64\n",
      " 4   product  100000 non-null  float64\n",
      "dtypes: float64(4), object(1)\n",
      "memory usage: 3.8+ MB\n",
      "\n"
     ]
    }
   ],
   "source": [
    "i = 0\n",
    "for df in df_list:\n",
    "    print(f\"For region {i}:\")\n",
    "    df.info()\n",
    "    print()\n",
    "    \n",
    "    i += 1"
   ]
  },
  {
   "cell_type": "markdown",
   "id": "01e16ac2-8a43-4ad0-88db-7ff4268d8af3",
   "metadata": {},
   "source": [
    "Excellent - no missing values, and the features/target are all floats."
   ]
  },
  {
   "cell_type": "markdown",
   "id": "2eaf1106-c8e6-41c5-aa2f-d2ff3644bf26",
   "metadata": {},
   "source": [
    "I'm curious about how the features correlate with the products."
   ]
  },
  {
   "cell_type": "code",
   "execution_count": 7,
   "id": "30465566-26ef-45db-a051-33f92f42a204",
   "metadata": {},
   "outputs": [
    {
     "data": {
      "text/html": [
       "<div>\n",
       "<style scoped>\n",
       "    .dataframe tbody tr th:only-of-type {\n",
       "        vertical-align: middle;\n",
       "    }\n",
       "\n",
       "    .dataframe tbody tr th {\n",
       "        vertical-align: top;\n",
       "    }\n",
       "\n",
       "    .dataframe thead th {\n",
       "        text-align: right;\n",
       "    }\n",
       "</style>\n",
       "<table border=\"1\" class=\"dataframe\">\n",
       "  <thead>\n",
       "    <tr style=\"text-align: right;\">\n",
       "      <th></th>\n",
       "      <th>f0</th>\n",
       "      <th>f1</th>\n",
       "      <th>f2</th>\n",
       "      <th>product</th>\n",
       "    </tr>\n",
       "  </thead>\n",
       "  <tbody>\n",
       "    <tr>\n",
       "      <th>f0</th>\n",
       "      <td>1.000000</td>\n",
       "      <td>-0.440717</td>\n",
       "      <td>-0.003211</td>\n",
       "      <td>0.143504</td>\n",
       "    </tr>\n",
       "    <tr>\n",
       "      <th>f1</th>\n",
       "      <td>-0.440717</td>\n",
       "      <td>1.000000</td>\n",
       "      <td>0.001764</td>\n",
       "      <td>-0.192351</td>\n",
       "    </tr>\n",
       "    <tr>\n",
       "      <th>f2</th>\n",
       "      <td>-0.003211</td>\n",
       "      <td>0.001764</td>\n",
       "      <td>1.000000</td>\n",
       "      <td>0.483631</td>\n",
       "    </tr>\n",
       "    <tr>\n",
       "      <th>product</th>\n",
       "      <td>0.143504</td>\n",
       "      <td>-0.192351</td>\n",
       "      <td>0.483631</td>\n",
       "      <td>1.000000</td>\n",
       "    </tr>\n",
       "  </tbody>\n",
       "</table>\n",
       "</div>"
      ],
      "text/plain": [
       "               f0        f1        f2   product\n",
       "f0       1.000000 -0.440717 -0.003211  0.143504\n",
       "f1      -0.440717  1.000000  0.001764 -0.192351\n",
       "f2      -0.003211  0.001764  1.000000  0.483631\n",
       "product  0.143504 -0.192351  0.483631  1.000000"
      ]
     },
     "execution_count": 7,
     "metadata": {},
     "output_type": "execute_result"
    }
   ],
   "source": [
    "df_0.corr(numeric_only=True)"
   ]
  },
  {
   "cell_type": "code",
   "execution_count": 8,
   "id": "a573e7bf-9c20-4349-a71b-830cba4f53f5",
   "metadata": {},
   "outputs": [
    {
     "data": {
      "text/html": [
       "<div>\n",
       "<style scoped>\n",
       "    .dataframe tbody tr th:only-of-type {\n",
       "        vertical-align: middle;\n",
       "    }\n",
       "\n",
       "    .dataframe tbody tr th {\n",
       "        vertical-align: top;\n",
       "    }\n",
       "\n",
       "    .dataframe thead th {\n",
       "        text-align: right;\n",
       "    }\n",
       "</style>\n",
       "<table border=\"1\" class=\"dataframe\">\n",
       "  <thead>\n",
       "    <tr style=\"text-align: right;\">\n",
       "      <th></th>\n",
       "      <th>f0</th>\n",
       "      <th>f1</th>\n",
       "      <th>f2</th>\n",
       "      <th>product</th>\n",
       "    </tr>\n",
       "  </thead>\n",
       "  <tbody>\n",
       "    <tr>\n",
       "      <th>f0</th>\n",
       "      <td>1.000000</td>\n",
       "      <td>0.182279</td>\n",
       "      <td>-0.001810</td>\n",
       "      <td>-0.030523</td>\n",
       "    </tr>\n",
       "    <tr>\n",
       "      <th>f1</th>\n",
       "      <td>0.182279</td>\n",
       "      <td>1.000000</td>\n",
       "      <td>-0.002594</td>\n",
       "      <td>-0.010154</td>\n",
       "    </tr>\n",
       "    <tr>\n",
       "      <th>f2</th>\n",
       "      <td>-0.001810</td>\n",
       "      <td>-0.002594</td>\n",
       "      <td>1.000000</td>\n",
       "      <td>0.999397</td>\n",
       "    </tr>\n",
       "    <tr>\n",
       "      <th>product</th>\n",
       "      <td>-0.030523</td>\n",
       "      <td>-0.010154</td>\n",
       "      <td>0.999397</td>\n",
       "      <td>1.000000</td>\n",
       "    </tr>\n",
       "  </tbody>\n",
       "</table>\n",
       "</div>"
      ],
      "text/plain": [
       "               f0        f1        f2   product\n",
       "f0       1.000000  0.182279 -0.001810 -0.030523\n",
       "f1       0.182279  1.000000 -0.002594 -0.010154\n",
       "f2      -0.001810 -0.002594  1.000000  0.999397\n",
       "product -0.030523 -0.010154  0.999397  1.000000"
      ]
     },
     "execution_count": 8,
     "metadata": {},
     "output_type": "execute_result"
    }
   ],
   "source": [
    "df_1.corr(numeric_only=True)"
   ]
  },
  {
   "cell_type": "code",
   "execution_count": 9,
   "id": "352531cf-aeb0-4cc2-968c-1381b1da8e78",
   "metadata": {},
   "outputs": [
    {
     "data": {
      "text/html": [
       "<div>\n",
       "<style scoped>\n",
       "    .dataframe tbody tr th:only-of-type {\n",
       "        vertical-align: middle;\n",
       "    }\n",
       "\n",
       "    .dataframe tbody tr th {\n",
       "        vertical-align: top;\n",
       "    }\n",
       "\n",
       "    .dataframe thead th {\n",
       "        text-align: right;\n",
       "    }\n",
       "</style>\n",
       "<table border=\"1\" class=\"dataframe\">\n",
       "  <thead>\n",
       "    <tr style=\"text-align: right;\">\n",
       "      <th></th>\n",
       "      <th>f0</th>\n",
       "      <th>f1</th>\n",
       "      <th>f2</th>\n",
       "      <th>product</th>\n",
       "    </tr>\n",
       "  </thead>\n",
       "  <tbody>\n",
       "    <tr>\n",
       "      <th>f0</th>\n",
       "      <td>1.000000</td>\n",
       "      <td>0.000506</td>\n",
       "      <td>-0.000452</td>\n",
       "      <td>-0.001978</td>\n",
       "    </tr>\n",
       "    <tr>\n",
       "      <th>f1</th>\n",
       "      <td>0.000506</td>\n",
       "      <td>1.000000</td>\n",
       "      <td>0.000753</td>\n",
       "      <td>-0.001055</td>\n",
       "    </tr>\n",
       "    <tr>\n",
       "      <th>f2</th>\n",
       "      <td>-0.000452</td>\n",
       "      <td>0.000753</td>\n",
       "      <td>1.000000</td>\n",
       "      <td>0.445867</td>\n",
       "    </tr>\n",
       "    <tr>\n",
       "      <th>product</th>\n",
       "      <td>-0.001978</td>\n",
       "      <td>-0.001055</td>\n",
       "      <td>0.445867</td>\n",
       "      <td>1.000000</td>\n",
       "    </tr>\n",
       "  </tbody>\n",
       "</table>\n",
       "</div>"
      ],
      "text/plain": [
       "               f0        f1        f2   product\n",
       "f0       1.000000  0.000506 -0.000452 -0.001978\n",
       "f1       0.000506  1.000000  0.000753 -0.001055\n",
       "f2      -0.000452  0.000753  1.000000  0.445867\n",
       "product -0.001978 -0.001055  0.445867  1.000000"
      ]
     },
     "execution_count": 9,
     "metadata": {},
     "output_type": "execute_result"
    }
   ],
   "source": [
    "df_2.corr(numeric_only=True)"
   ]
  },
  {
   "cell_type": "markdown",
   "id": "19c5740d-2644-4099-8f20-bb9bfdaea7e6",
   "metadata": {},
   "source": [
    "Hmm, f2 seems to correlate the most, especially in region 1, where is there is an extremely high positive correlation. I expect the linear regression model for region 1 to perform well, based on the high correlation of its f2 with its target."
   ]
  },
  {
   "cell_type": "markdown",
   "id": "5a27df37-6653-4c2e-bbd9-7d9fedb211cd",
   "metadata": {},
   "source": [
    "# Model Training"
   ]
  },
  {
   "cell_type": "markdown",
   "id": "0d3ac0f7-bd6c-4963-b3a7-29f5eafde58c",
   "metadata": {},
   "source": [
    "Now I will train a linear regression model for each of these datasets, using a function."
   ]
  },
  {
   "cell_type": "code",
   "execution_count": 10,
   "id": "eb8f7efb-9883-4894-88b6-c1269b79ca8e",
   "metadata": {},
   "outputs": [],
   "source": [
    "def train_model(df):\n",
    "    \n",
    "    \"\"\"\n",
    "    This function takes one of our three pandas DataFrames as input, splits it into features and target,\n",
    "    further splits these into training/validation sets (0.75/0.25), trains a linear regression model, \n",
    "    makes predictions, saves the predictions and the answers, and prints average predicted reserve volume, root mean squared error, \n",
    "    and R2 score. This function returns a tuple in the format (predictions, answers, model, average volume).\n",
    "    \"\"\"\n",
    "    \n",
    "    features = df[['f0', 'f1', 'f2']]\n",
    "    target = df['product']\n",
    "    \n",
    "    features_train, features_valid, target_train, target_valid = train_test_split(features, target, test_size=0.25, random_state=0)\n",
    "    \n",
    "    model = LinearRegression()\n",
    "    model.fit(features_train, target_train)\n",
    "    pred = model.predict(features_valid)\n",
    "    \n",
    "    rmse = mean_squared_error(target_valid, pred)**0.5\n",
    "    score = r2_score(target_valid, pred)\n",
    "    avg_vol = pred.mean()\n",
    "    answers = pd.Series(target_valid).reset_index(drop=True)\n",
    "    \n",
    "    print(\"Average volume of predicted reserves:\", avg_vol)\n",
    "    print(\"RMSE:\", rmse)\n",
    "    print(\"R2 score:\", score)\n",
    "    print()\n",
    "    \n",
    "    return pd.Series(pred), answers, model, avg_vol"
   ]
  },
  {
   "cell_type": "code",
   "execution_count": 11,
   "id": "1d3fe052-7ace-4ec8-8361-c70e7835f6b3",
   "metadata": {},
   "outputs": [
    {
     "name": "stdout",
     "output_type": "stream",
     "text": [
      "Average volume of predicted reserves: 92.69630160501748\n",
      "RMSE: 37.7262428254728\n",
      "R2 score: 0.27856453352796573\n",
      "\n"
     ]
    }
   ],
   "source": [
    "region_0_pred, region_0_answers, region_0_model, region_0_avg_vol = train_model(df_0)"
   ]
  },
  {
   "cell_type": "code",
   "execution_count": 12,
   "id": "94559285-714f-4539-92f7-7567bd623fac",
   "metadata": {},
   "outputs": [
    {
     "name": "stdout",
     "output_type": "stream",
     "text": [
      "Average volume of predicted reserves: 69.29357037294382\n",
      "RMSE: 0.8861463104896521\n",
      "R2 score: 0.9996299337884034\n",
      "\n"
     ]
    }
   ],
   "source": [
    "region_1_pred, region_1_answers, region_1_model, region_1_avg_vol = train_model(df_1)"
   ]
  },
  {
   "cell_type": "code",
   "execution_count": 13,
   "id": "2d2fcb46-94e7-4915-826b-94e2d9d8a784",
   "metadata": {},
   "outputs": [
    {
     "name": "stdout",
     "output_type": "stream",
     "text": [
      "Average volume of predicted reserves: 95.14086176571024\n",
      "RMSE: 40.185356062741405\n",
      "R2 score: 0.196027162061857\n",
      "\n"
     ]
    }
   ],
   "source": [
    "region_2_pred, region_2_answers, region_2_model, region_2_avg_vol = train_model(df_2)"
   ]
  },
  {
   "cell_type": "markdown",
   "id": "7a3205ce-9225-40cb-b5e0-1214cb6915ed",
   "metadata": {},
   "source": [
    "Region 2 has the largest predicted volume, but the worst RMSE and R2 score. Region 1 has by far the best RMSE and R2 scores, but notably lower predicted reserve volume than the others. Region 0 has a slightly lower predicted reserve volume than region 2, but a somewhat better RMSE and R2 score than region 2.\n",
    "\n",
    "To sum: region 2 has the most projected volume, region 1's model seems to be the most reliable, and region 0 is somewhere in the middle."
   ]
  },
  {
   "cell_type": "markdown",
   "id": "3ae91e3e-b4b7-4ae1-a1d4-652dd9813d9a",
   "metadata": {},
   "source": [
    "# Prepare for profit calculation"
   ]
  },
  {
   "cell_type": "markdown",
   "id": "37d8dc3c-f4d6-45d8-9fed-409955bd6c2f",
   "metadata": {},
   "source": [
    "I'll store some of our values into variables for later ease of use, and figure out how much volume of oil is needed to break even. (Where revenue = development cost)"
   ]
  },
  {
   "cell_type": "code",
   "execution_count": 14,
   "id": "84d4e280-36b2-47e2-b908-927436b425ed",
   "metadata": {},
   "outputs": [],
   "source": [
    "usd_per_1000_barrels = 4500\n",
    "dev_cost = 10**8"
   ]
  },
  {
   "cell_type": "markdown",
   "id": "c5e7830a-a26c-4654-8770-51c183669eb7",
   "metadata": {},
   "source": [
    "Development cost is 100,000,000 USD for the planned 200 oil wells. In the datasets, the volume of oil is measured in 1000 barrels. One barrel provides 4.5 USD in revenue, so 1000 barrels provides 4,500 USD in revenue. Development cost divided by the revenue per 1000 barrels gives us the volume needed to break even."
   ]
  },
  {
   "cell_type": "code",
   "execution_count": 15,
   "id": "b1bc1148-3e30-425c-9806-e04c6a89ff06",
   "metadata": {},
   "outputs": [
    {
     "name": "stdout",
     "output_type": "stream",
     "text": [
      "22222\n"
     ]
    }
   ],
   "source": [
    "min_volume = dev_cost / usd_per_1000_barrels\n",
    "print(round(min_volume))"
   ]
  },
  {
   "cell_type": "markdown",
   "id": "f0d1e14d-9c54-43f3-a2b4-151c93215da7",
   "metadata": {},
   "source": [
    "The top 200 reserves in the region need to have a combined volume of at least 22,222 thousand barrels for a profit to be made.\n",
    "\n",
    "The models gave predictions for the average volume of each predicted reserve. Let's multiply these values by 200."
   ]
  },
  {
   "cell_type": "code",
   "execution_count": 16,
   "id": "95c6e02d-3ce4-4aeb-8a94-93d0ec3b238e",
   "metadata": {},
   "outputs": [
    {
     "name": "stdout",
     "output_type": "stream",
     "text": [
      "Region 0 predicted total volume: 18539.260321003498\n",
      "Region 1 predicted total volume: 13858.714074588765\n",
      "Region 2 predicted total volume: 19028.172353142047\n"
     ]
    }
   ],
   "source": [
    "print('Region 0 predicted total volume:', region_0_avg_vol*200)\n",
    "print('Region 1 predicted total volume:', region_1_avg_vol*200)\n",
    "print('Region 2 predicted total volume:', region_2_avg_vol*200)"
   ]
  },
  {
   "cell_type": "markdown",
   "id": "82154d2b-7a67-4bb1-8ea7-6ff3730da9ec",
   "metadata": {},
   "source": [
    "Going off of the average predicted volume, none of these regions seem to have enough oil to justify building oil wells. However, realistically we will be able to choose the best 200 sites possible for oil wells, so these total predicted volumes should be higher."
   ]
  },
  {
   "cell_type": "markdown",
   "id": "be88c8c7-c974-4b85-a776-06d238de89f1",
   "metadata": {},
   "source": [
    "# Calculate profit from the top 200 wells"
   ]
  },
  {
   "cell_type": "markdown",
   "id": "42e49ab1-ee90-4db0-9205-5a4286431811",
   "metadata": {},
   "source": [
    "Let's write a function to find profit given oil wells are built at the top 200 predicted oil sites. We need to find the top 200 sites that the model would predict we should build on, and calculate profit based on the real-life values at these sites."
   ]
  },
  {
   "cell_type": "code",
   "execution_count": 17,
   "id": "ec662364-3962-4250-92b2-0d0e890ff65f",
   "metadata": {},
   "outputs": [],
   "source": [
    "def top_200_profits(predictions, answers, show='yes'):\n",
    "    \n",
    "    \"\"\"\n",
    "    This function takes predictions and answers as input. The top 200 predicted sites are collected, and revenue is calculated from \n",
    "    the real-life values from these wells, based on the sum of the oil product and the $4500 per 1000 barrels value. Profit is found by \n",
    "    subtracting the $100 mil development costs from the revenue. Profit is returned.\n",
    "    In this step, the total reserve volume and profit are printed.\n",
    "    \"\"\"\n",
    "    \n",
    "    top_200_pred_sites = predictions.sort_values(ascending=False).head(200).index\n",
    "    top_200_sites_sum = answers[top_200_pred_sites].sum()\n",
    "    revenue = top_200_sites_sum * usd_per_1000_barrels\n",
    "    profit = revenue - dev_cost\n",
    "    if show == 'yes':\n",
    "        print(\"Total reserve volume:\", top_200_sites_sum)\n",
    "        print(\"Profit:\", sc(round(profit)))\n",
    "    return profit"
   ]
  },
  {
   "cell_type": "code",
   "execution_count": 18,
   "id": "1b8a5848-84fa-4b38-bfec-09473db0f709",
   "metadata": {},
   "outputs": [
    {
     "name": "stdout",
     "output_type": "stream",
     "text": [
      "Total reserve volume: 29665.19369593045\n",
      "Profit: 3.3493372e+07\n"
     ]
    }
   ],
   "source": [
    "region_0_profit = top_200_profits(region_0_pred, region_0_answers)"
   ]
  },
  {
   "cell_type": "code",
   "execution_count": 19,
   "id": "17294651-eaeb-49b1-8b93-438a0ab9d67b",
   "metadata": {},
   "outputs": [
    {
     "data": {
      "text/plain": [
       "<matplotlib.collections.PathCollection at 0x2067799c8e0>"
      ]
     },
     "execution_count": 19,
     "metadata": {},
     "output_type": "execute_result"
    },
    {
     "data": {
      "image/png": "[encoded data removed]",
      "text/plain": [
       "<Figure size 640x480 with 1 Axes>"
      ]
     },
     "metadata": {},
     "output_type": "display_data"
    }
   ],
   "source": [
    "plt.scatter(region_0_pred, region_0_answers)"
   ]
  },
  {
   "cell_type": "markdown",
   "id": "4e4ffb60-2dc6-46db-9ce1-607e3679b168",
   "metadata": {},
   "source": [
    "33.6 million USD profit for region 0"
   ]
  },
  {
   "cell_type": "code",
   "execution_count": 20,
   "id": "f8f442cd-c79d-48f4-a29c-f6181dfd9656",
   "metadata": {},
   "outputs": [
    {
     "name": "stdout",
     "output_type": "stream",
     "text": [
      "Total reserve volume: 27589.081548181137\n",
      "Profit: 2.4150867e+07\n"
     ]
    }
   ],
   "source": [
    "region_1_profit = top_200_profits(region_1_pred, region_1_answers)"
   ]
  },
  {
   "cell_type": "markdown",
   "id": "55ef8c53-9012-4245-a536-b385c6f3e5e1",
   "metadata": {},
   "source": [
    "24.2 million USD profit for region 1"
   ]
  },
  {
   "cell_type": "code",
   "execution_count": 21,
   "id": "5eaf6d1c-3d68-46f4-bf12-71bf2270ccdb",
   "metadata": {},
   "outputs": [
    {
     "name": "stdout",
     "output_type": "stream",
     "text": [
      "Total reserve volume: 27783.56307051542\n",
      "Profit: 2.5026034e+07\n"
     ]
    }
   ],
   "source": [
    "region_2_profit = top_200_profits(region_2_pred, region_2_answers)"
   ]
  },
  {
   "cell_type": "markdown",
   "id": "8778a9f4-5ce4-489a-9f99-7065cf03636f",
   "metadata": {},
   "source": [
    "26.2 million USD profit for region 2"
   ]
  },
  {
   "cell_type": "markdown",
   "id": "011b1e23-41b6-47e1-9f9d-05bb0e5a2dfe",
   "metadata": {},
   "source": [
    "The top 200 sites in the three regions have total reserve volume greater than 22,222 thousand barrels, and so therefore, all regions will yield a profit with these sites. However, the top 200 sites will not be picked from the total list, but from a set of 500, so it is unlikely that the 200 best sites will be available. Region 0 looks like by far the most promising in terms of profit. However, we still need to factor in the risk introduced by the imperfect prediction systems. The model for region 1 had a very high r^2 score compared to that of the others, despite having the lowest preliminary profit. We will add risk into our calculations with bootstrapping. "
   ]
  },
  {
   "cell_type": "markdown",
   "id": "78e7788d-c90d-48be-b16c-1356b7857e1c",
   "metadata": {},
   "source": [
    "# Bootstrapping"
   ]
  },
  {
   "cell_type": "markdown",
   "id": "dab349bd-b98f-43cc-9e38-3e7fe9647aba",
   "metadata": {},
   "source": [
    "Now I will look at risk using bootstrapping. Bootstrapping is a technique that can be used to evaluate machine learning models, where many subsamples are generated from the predictions and the answer, and a certain value (in this case, profit) is collected from each subsample. Calculations can be performed on this series to find, in this case, mean and confidence interval, and other values that may be desired. I will calculate the risks of losses for each region, which is the probability that there will be a negative profit, and filter the regions by eliminating regions with risk of loss greater than 2.5%, and then selecting the region with the highest average profit."
   ]
  },
  {
   "cell_type": "code",
   "execution_count": 22,
   "id": "b8f65494-93c1-4520-8021-7030ce7f473a",
   "metadata": {},
   "outputs": [],
   "source": [
    "def bootstrap(predictions, answers):\n",
    "    \n",
    "    \"\"\"\n",
    "    This function takes predictions and answers as inputs, and is meant to be used to find values for specifically\n",
    "    the three regions being examined in this notebook. It uses bootstrapping to calculate the mean and 95% confidence interval.\n",
    "    It also iterates through quantiles to determine the approximate quantile where profit is zero.\n",
    "    It prints the mean profit, 95% confidence interval, and risk of loss, and returns nothing.\n",
    "    It displays a histogram of the average profits from the subsamples.\n",
    "    \"\"\"\n",
    "    \n",
    "    state = RandomState(0)\n",
    "    values = []\n",
    "    \n",
    "#     1000 times, 500 samples will be taken from the target validation set, and profit will be calculated\n",
    "# based on the top 200 of these samples. The samples will not be replaced, because there cannot be multiple \n",
    "# oil wells on a single site. I choose not to print values each time this iterates.\n",
    "    for i in range(1000):\n",
    "        answers_subsample = answers.sample(n=500, random_state=state, replace=False)\n",
    "        pred_subsample = predictions[answers_subsample.index]\n",
    "        profit = top_200_profits(pred_subsample, answers_subsample, show='no')\n",
    "        \n",
    "        values.append(profit)\n",
    "    \n",
    "    values = pd.Series(values)\n",
    "    mean = round(values.mean())\n",
    "    lower = round(values.quantile(0.025))\n",
    "    upper = round(values.quantile(0.975))\n",
    "    \n",
    "    print(\"Average profit:\", sc(mean), \"USD\")\n",
    "    print(f\"For 95% confidence interval, the lower profit is {sc(lower)} USD and the upper profit is {sc(upper)} USD.\")\n",
    "    \n",
    "#     Iterate through quantiles until a profit of about 0 is reached, and record this quantile as a probability percentage.\n",
    "    final_prof = 0\n",
    "    final_i = 0\n",
    "    for q in range (1,100,1):\n",
    "        prof = values.quantile(q/1000)\n",
    "        if prof >= 0:\n",
    "            final_prof = prof\n",
    "            final_q = q\n",
    "            break\n",
    "    print(f\"Risk of loss: {q/10}%\")\n",
    "    \n",
    "    values.hist(figsize=(5,3))\n",
    "    plt.title(\"Distribution of profits\")\n",
    "    plt.xlabel(\"Profit made (USD)\")\n",
    "    plt.ylabel(\"How often was this profit made?\")"
   ]
  },
  {
   "cell_type": "code",
   "execution_count": 23,
   "id": "691d4cd2-69ea-405a-9179-fc6f35761ec7",
   "metadata": {},
   "outputs": [
    {
     "name": "stdout",
     "output_type": "stream",
     "text": [
      "Average profit: 4.423831e+06 USD\n",
      "For 95% confidence interval, the lower profit is -9.11191e+05 USD and the upper profit is 9.517883e+06 USD.\n",
      "Risk of loss: 4.2%\n"
     ]
    },
    {
     "data": {
      "image/png": "[encoded data removed]",
      "text/plain": [
       "<Figure size 500x300 with 1 Axes>"
      ]
     },
     "metadata": {},
     "output_type": "display_data"
    }
   ],
   "source": [
    "bootstrap(region_0_pred, region_0_answers)"
   ]
  },
  {
   "cell_type": "code",
   "execution_count": 24,
   "id": "ce1e60f8-16df-497f-9624-1fa1f8c8e6da",
   "metadata": {},
   "outputs": [
    {
     "name": "stdout",
     "output_type": "stream",
     "text": [
      "Average profit: 5.033181e+06 USD\n",
      "For 95% confidence interval, the lower profit is 1.138173e+06 USD and the upper profit is 9.129701e+06 USD.\n",
      "Risk of loss: 0.4%\n"
     ]
    },
    {
     "data": {
      "image/png": "[encoded data removed]",
      "text/plain": [
       "<Figure size 500x300 with 1 Axes>"
      ]
     },
     "metadata": {},
     "output_type": "display_data"
    }
   ],
   "source": [
    "bootstrap(region_1_pred, region_1_answers)"
   ]
  },
  {
   "cell_type": "code",
   "execution_count": 25,
   "id": "f4b53bfd-5d56-4fda-8832-a6a5bf738296",
   "metadata": {},
   "outputs": [
    {
     "name": "stdout",
     "output_type": "stream",
     "text": [
      "Average profit: 3.269188e+06 USD\n",
      "For 95% confidence interval, the lower profit is -1.808274e+06 USD and the upper profit is 8.418254e+06 USD.\n",
      "Risk of loss: 9.9%\n"
     ]
    },
    {
     "data": {
      "image/png": "[encoded data removed]",
      "text/plain": [
       "<Figure size 500x300 with 1 Axes>"
      ]
     },
     "metadata": {},
     "output_type": "display_data"
    }
   ],
   "source": [
    "bootstrap(region_2_pred, region_2_answers)"
   ]
  },
  {
   "cell_type": "markdown",
   "id": "62414b2e-0d6f-4d94-a703-9360a71d1698",
   "metadata": {},
   "source": [
    "Based on average profit from 200 oil wells, and the risk of loss, region 1 seems to be the best region for building oil wells. It only has a 1.2% risk of loss, compared to the others which have between about 5-8% risk, and also has the highest average profit."
   ]
  },
  {
   "cell_type": "markdown",
   "id": "24795072-e247-44e2-81b8-69d94cafbc94",
   "metadata": {},
   "source": [
    "# Conclusion"
   ]
  },
  {
   "cell_type": "markdown",
   "id": "269c6bc9-f7ff-44b1-bc52-e7441b09efd4",
   "metadata": {},
   "source": [
    "We have trained and validated linear regression models for each of the three regions for which we have data. We saved the predictions from these models and used the predictions to find the profit from the actual wells. We used bootstrapping to evaluate the risk of losses, and found that region 1 has both the lowest risk of loss (1.2%) and the highest average profit (4.8 million USD)."
   ]
  }
 ],
 "metadata": {
  "kernelspec": {
   "display_name": "Python 3 (ipykernel)",
   "language": "python",
   "name": "python3"
  },
  "language_info": {
   "codemirror_mode": {
    "name": "ipython",
    "version": 3
   },
   "file_extension": ".py",
   "mimetype": "text/x-python",
   "name": "python",
   "nbconvert_exporter": "python",
   "pygments_lexer": "ipython3",
   "version": "3.9.16"
  },
  "toc-showtags": false
 },
 "nbformat": 4,
 "nbformat_minor": 5
}
